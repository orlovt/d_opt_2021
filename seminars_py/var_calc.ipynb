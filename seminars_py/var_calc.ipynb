{
 "cells": [
  {
   "cell_type": "markdown",
   "metadata": {
    "id": "8W4J2fknit7b"
   },
   "source": [
    "# Вариационное счисление"
   ]
  },
  {
   "cell_type": "code",
   "execution_count": 9,
   "metadata": {
    "id": "jDbUjF5Eit7b"
   },
   "outputs": [],
   "source": [
    "from scipy.optimize import minimize\n",
    "import matplotlib.pyplot as plt\n",
    "import numpy as np\n",
    "import math\n",
    "import seaborn as sns\n",
    "\n",
    "EPS = 10e-6"
   ]
  },
  {
   "cell_type": "markdown",
   "metadata": {
    "id": "NJj4T1xCit7b"
   },
   "source": [
    "## Задача 1. Вариационное исчисление"
   ]
  },
  {
   "cell_type": "code",
   "execution_count": 6,
   "metadata": {
    "colab": {
     "base_uri": "https://localhost:8080/"
    },
    "id": "5jZ7KCdfit7b",
    "outputId": "29bd49e4-d538-4fe1-b152-fca0ad0f3f43"
   },
   "outputs": [],
   "source": [
    "# Задаём дискретное время\n",
    "num_of_fractions = 51   # Количество делений на дискретной шкале времени\n",
    "t = np.linspace(0, 2, num_of_fractions)     # Дискретная шкала времени\n",
    "dt = t[1] - t[0]    # Рассчитываем шаг шкалы"
   ]
  },
  {
   "cell_type": "markdown",
   "metadata": {},
   "source": [
    "$$\\int_0^2 y^2(t) + y'^2(t)dt  $$"
   ]
  },
  {
   "cell_type": "code",
   "execution_count": 28,
   "metadata": {
    "id": "U4idhNunit7b"
   },
   "outputs": [],
   "source": [
    "# Задаём оптимизируемый функционал в дискретном времени\n",
    "def f(y):\n",
    "    return np.sum(y[1:] ** 2 + ((y[1:] - y[:-1]) / dt) ** 2)"
   ]
  },
  {
   "cell_type": "markdown",
   "metadata": {},
   "source": [
    "1. Суммирование так как суммируем траекторию функционала, интеграл в континиуме - сумма в дискретном времени \n",
    "2. $\\frac{y(t+1)-y(t)}{dt}$ - дискретная впередсмотрящая производная функционала \n",
    "3. $\\frac{y(t)-y(t-1)}{dt}$ - дискретная назадсмотрящая производная функционала "
   ]
  },
  {
   "cell_type": "code",
   "execution_count": 24,
   "metadata": {
    "colab": {
     "base_uri": "https://localhost:8080/"
    },
    "id": "mV6xCzMLit7c",
    "outputId": "4ac34ba9-99e3-4b33-fa96-cd3d9ada1ee7"
   },
   "outputs": [],
   "source": [
    "# Начальное значение y\n",
    "y0 = [0.2 for x in range(0, num_of_fractions)]     \n",
    "\n",
    "# Задаем ограничения на y. У нас y(0)=0 и y(2)=1\n",
    "bounds = [(None, None) for x in range(0, num_of_fractions)]\n",
    "bounds[0], bounds[-1] = (0.0 - EPS, 0.0 + EPS), (1.0 - EPS, 1.0 + EPS)"
   ]
  },
  {
   "cell_type": "code",
   "execution_count": 25,
   "metadata": {
    "id": "N1o0sUvZit7c"
   },
   "outputs": [],
   "source": [
    "# Минимизируем функционал\n",
    "res = minimize(f, y0, method='l-bfgs-b', bounds=bounds)"
   ]
  },
  {
   "cell_type": "code",
   "execution_count": 26,
   "metadata": {
    "id": "f6gNyv_0it7c"
   },
   "outputs": [],
   "source": [
    "# Определим функцию, возвращающую аналитическое решение. \n",
    "#Напомню, что y = (e^t - e^(-t))/(e^2 - e^(-2))\n",
    "def f_analytical(t):\n",
    "    return [(math.exp(elem) - math.exp(-elem))/(math.exp(2) - math.exp(-2)) for elem in t]"
   ]
  },
  {
   "cell_type": "code",
   "execution_count": 27,
   "metadata": {
    "colab": {
     "base_uri": "https://localhost:8080/",
     "height": 279
    },
    "id": "jdK-a-D6it7c",
    "outputId": "e8e4aa74-bb36-4af2-940f-cde023bb9833"
   },
   "outputs": [
    {
     "data": {
      "image/png": "[encoded data removed]",
      "text/plain": [
       "<Figure size 432x288 with 1 Axes>"
      ]
     },
     "metadata": {
      "needs_background": "light"
     },
     "output_type": "display_data"
    }
   ],
   "source": [
    "# Построим график и убедимся, что численное и аналитическое решения совпали\n",
    "plt.plot(t, res.x, 'r', t, f_analytical(t), '--b')\n",
    "plt.xlabel('t')\n",
    "plt.ylabel('y')\n",
    "plt.legend(('y численный', 'y аналитический'))\n",
    "plt.show()"
   ]
  },
  {
   "cell_type": "markdown",
   "metadata": {
    "id": "ogHrytKSit7c"
   },
   "source": [
    "## Задача 2"
   ]
  },
  {
   "cell_type": "code",
   "execution_count": 68,
   "metadata": {
    "id": "TtqMtyHrit7c"
   },
   "outputs": [],
   "source": [
    "num_of_fractions = 41\n",
    "t = np.linspace(0, 1, num_of_fractions)\n",
    "dt = t[1] - t[0]"
   ]
  },
  {
   "cell_type": "code",
   "execution_count": 69,
   "metadata": {
    "id": "r10vXMpSit7c"
   },
   "outputs": [],
   "source": [
    "def f(y):\n",
    "    return np.sum(y[1:] ** 2 + (t[1:] ** 2) * (((y[1:] - y[:-1]) / dt) ** 2), axis=0)\n",
    "\n",
    "\n",
    "y0 = [1.5 for x in range(0, num_of_fractions)]\n",
    "bounds = [(None, None) for x in range(0, num_of_fractions)]\n",
    "bounds[0], bounds[-1] = (1.0 - EPS, 1.0 + EPS), (2.0 - EPS, 2.0 + EPS)\n",
    "\n",
    "# bounds[20] = (5.0, 6.0)\n"
   ]
  },
  {
   "cell_type": "code",
   "execution_count": 70,
   "metadata": {
    "id": "q364-93Yit7c"
   },
   "outputs": [],
   "source": [
    "res = minimize(f, y0, method='l-bfgs-b', bounds=bounds)"
   ]
  },
  {
   "cell_type": "code",
   "execution_count": 71,
   "metadata": {
    "colab": {
     "base_uri": "https://localhost:8080/",
     "height": 279
    },
    "id": "X4t6bFzEit7c",
    "outputId": "01e48d98-a15b-40bd-8184-0657c31a9a6f"
   },
   "outputs": [
    {
     "data": {
      "image/png": "[encoded data removed]",
      "text/plain": [
       "<Figure size 432x288 with 1 Axes>"
      ]
     },
     "metadata": {
      "needs_background": "light"
     },
     "output_type": "display_data"
    }
   ],
   "source": [
    "plt.plot(t, res.x)\n",
    "plt.xlabel('t')\n",
    "plt.ylabel('y')\n",
    "plt.show()\n"
   ]
  },
  {
   "cell_type": "code",
   "execution_count": 72,
   "metadata": {
    "colab": {
     "base_uri": "https://localhost:8080/",
     "height": 279
    },
    "id": "pKCy8Vlait7c",
    "outputId": "23505299-3643-44d3-f910-d8736a5ee814"
   },
   "outputs": [
    {
     "data": {
      "image/png": "[encoded data removed]",
      "text/plain": [
       "<Figure size 432x288 with 1 Axes>"
      ]
     },
     "metadata": {
      "needs_background": "light"
     },
     "output_type": "display_data"
    }
   ],
   "source": [
    "\n",
    "# Откинем правую границу\n",
    "\n",
    "bounds2 = [(None, None) for x in range(0, num_of_fractions)]\n",
    "bounds2[0] = (1.0 - EPS, 1.0 + EPS)\n",
    "\n",
    "res2 = minimize(f, y0, method='l-bfgs-b', bounds=bounds2)\n",
    "\n",
    "plt.plot(t, res2.x)\n",
    "plt.xlabel('t')\n",
    "plt.ylabel('y')\n",
    "plt.show()\n"
   ]
  },
  {
   "cell_type": "markdown",
   "metadata": {
    "id": "P2333Ca6it7c"
   },
   "source": [
    "## Задача 3"
   ]
  },
  {
   "cell_type": "code",
   "execution_count": 73,
   "metadata": {
    "colab": {
     "base_uri": "https://localhost:8080/",
     "height": 279
    },
    "id": "_juGbh9Pit7d",
    "outputId": "b7599238-ac40-4820-9f78-9109ee878731"
   },
   "outputs": [
    {
     "data": {
      "image/png": "[encoded data removed]",
      "text/plain": [
       "<Figure size 432x288 with 1 Axes>"
      ]
     },
     "metadata": {
      "needs_background": "light"
     },
     "output_type": "display_data"
    }
   ],
   "source": [
    "num_of_fractions = 41\n",
    "t = np.linspace(0, 1, num_of_fractions)\n",
    "dt = t[1] - t[0]\n",
    "\n",
    "\n",
    "def f(y):\n",
    "    return np.sum(y[1:] * (((y[1:] - y[:-1]) / dt) ** 2), axis=0)\n",
    "\n",
    "\n",
    "y0 = [.5 for x in range(0, num_of_fractions)]\n",
    "bounds = [(None, None) for x in range(0, num_of_fractions)]\n",
    "bounds[0], bounds[-1] = (1.0 - EPS, 1.0 + EPS), (4.0 - EPS, 4.0 + EPS)\n",
    "\n",
    "res = minimize(f, y0, method='l-bfgs-b', bounds=bounds)\n",
    "\n",
    "\n",
    "def f_analytical(t):\n",
    "    return [(7 * elem + 1) ** (2 / 3) for elem in t]\n",
    "\n",
    "\n",
    "# Построим график и убедимся, что численное и аналитическое решения совпали\n",
    "plt.plot(t, res.x, 'r', t, f_analytical(t), '--b')\n",
    "plt.xlabel('t')\n",
    "plt.ylabel('y')\n",
    "plt.legend(('y численный', 'y аналитический'))\n",
    "plt.show()\n"
   ]
  },
  {
   "cell_type": "markdown",
   "metadata": {
    "id": "pEPzZG8GvB0o"
   },
   "source": [
    "## Задача 4"
   ]
  },
  {
   "cell_type": "code",
   "execution_count": 74,
   "metadata": {
    "colab": {
     "base_uri": "https://localhost:8080/",
     "height": 203
    },
    "id": "7qwTPIVFy8fm",
    "outputId": "abe68e4b-924d-4f2e-d137-99390310e302"
   },
   "outputs": [],
   "source": [
    "num_of_fractions = 41\n",
    "t = np.linspace(0, 1, num_of_fractions)\n",
    "dt = t[1] - t[0]\n"
   ]
  },
  {
   "cell_type": "code",
   "execution_count": 75,
   "metadata": {
    "colab": {
     "base_uri": "https://localhost:8080/",
     "height": 279
    },
    "id": "I9z5zb3SzmqZ",
    "outputId": "25d8e261-e2e7-46cd-e87e-07493f25f1bd"
   },
   "outputs": [
    {
     "data": {
      "image/png": "[encoded data removed]",
      "text/plain": [
       "<Figure size 432x288 with 1 Axes>"
      ]
     },
     "metadata": {
      "needs_background": "light"
     },
     "output_type": "display_data"
    }
   ],
   "source": [
    "\n",
    "def f(y):\n",
    "  dy = (y[1:] - y[:-1]) / dt\n",
    "  d2y = (dy[1:] - dy[:-1]) / dt\n",
    "  return np.sum(y[2:] + d2y**2, axis = 0)\n",
    "\n",
    "y0 = [.5 for x in range(0, num_of_fractions)]\n",
    "bounds = [(None, None) for x in range(0, num_of_fractions)]\n",
    "bounds[0], bounds[-1] = (1.0 - EPS, 1.0 + EPS), (4.0 - EPS, 4.0 + EPS)\n",
    "\n",
    "\n",
    "res = minimize(f, y0, method='l-bfgs-b', bounds=bounds)\n",
    "\n",
    "# Построим график и убедимся, что численное и аналитическое решения совпали\n",
    "plt.plot(t, res.x, 'r', '--b')\n",
    "plt.xlabel('t')\n",
    "plt.ylabel('y')\n",
    "plt.legend(('y численный', 'y аналитический'))\n",
    "plt.show()"
   ]
  }
 ],
 "metadata": {
  "colab": {
   "collapsed_sections": [],
   "name": "sem_1.ipynb",
   "provenance": []
  },
  "interpreter": {
   "hash": "916dbcbb3f70747c44a77c7bcd40155683ae19c65e1c03b4aa3499c5328201f1"
  },
  "kernelspec": {
   "display_name": "Python 3",
   "language": "python",
   "name": "python3"
  },
  "language_info": {
   "codemirror_mode": {
    "name": "ipython",
    "version": 3
   },
   "file_extension": ".py",
   "mimetype": "text/x-python",
   "name": "python",
   "nbconvert_exporter": "python",
   "pygments_lexer": "ipython3",
   "version": "3.8.5"
  }
 },
 "nbformat": 4,
 "nbformat_minor": 4
}
